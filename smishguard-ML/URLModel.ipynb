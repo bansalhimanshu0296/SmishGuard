{
 "cells": [
  {
   "cell_type": "code",
   "execution_count": null,
   "id": "74033d33",
   "metadata": {},
   "outputs": [],
   "source": [
    "import pandas as pd\n",
    "from xgboost import XGBClassifier\n",
    "import pickle"
   ]
  },
  {
   "cell_type": "code",
   "execution_count": null,
   "id": "eb532a81",
   "metadata": {},
   "outputs": [],
   "source": [
    "data = pd.read_csv('urldata.csv')\n",
    "data = data.drop(['Domain'], axis = 1).copy()\n",
    "y = data['Label']\n",
    "X = data.drop('Label',axis=1)\n",
    "xgb = XGBClassifier(learning_rate=0.4,max_depth=7)\n",
    "xgb.fit(X, y)"
   ]
  },
  {
   "cell_type": "code",
   "execution_count": null,
   "id": "c0c8d008",
   "metadata": {},
   "outputs": [],
   "source": [
    "pickle.dump(xgb, open(\"URLClassifier.pickle.dat\", \"wb\"))"
   ]
  }
 ],
 "metadata": {
  "kernelspec": {
   "display_name": "Python 3 (ipykernel)",
   "language": "python",
   "name": "python3"
  },
  "language_info": {
   "codemirror_mode": {
    "name": "ipython",
    "version": 3
   },
   "file_extension": ".py",
   "mimetype": "text/x-python",
   "name": "python",
   "nbconvert_exporter": "python",
   "pygments_lexer": "ipython3",
   "version": "3.9.12"
  }
 },
 "nbformat": 4,
 "nbformat_minor": 5
}
