{
 "cells": [
  {
   "cell_type": "code",
   "execution_count": null,
   "id": "0bed7a7d",
   "metadata": {},
   "outputs": [],
   "source": [
    "import matplotlib.pyplot as plt\n",
    "import csv\n",
    "import sklearn\n",
    "import pickle\n",
    "from wordcloud import WordCloud\n",
    "import pandas as pd\n",
    "import numpy as np\n",
    "import nltk\n",
    "from nltk.corpus import stopwords\n",
    "from sklearn.feature_extraction.text import TfidfTransformer\n",
    "from sklearn.tree import DecisionTreeClassifier\n",
    "from sklearn.model_selection import train_test_split\n",
    "import httplib2\n",
    "from urlextract import URLExtract\n",
    "import nltk\n",
    "nltk.download(\"punkt\")\n",
    "import warnings\n",
    "warnings.filterwarnings('ignore')\n",
    "import re\n",
    "import math\n",
    "import string\n",
    "nltk.download('stopwords')\n",
    "from sklearn.linear_model import LogisticRegression\n",
    "from sklearn.svm import SVC\n",
    "from sklearn.naive_bayes import MultinomialNB\n",
    "from sklearn.tree import DecisionTreeClassifier\n",
    "from sklearn.neighbors import KNeighborsClassifier\n",
    "from sklearn.ensemble import RandomForestClassifier\n",
    "from sklearn.metrics import accuracy_score\n",
    "from sklearn.metrics import confusion_matrix\n",
    "import seaborn as sns\n",
    "import json "
   ]
  },
  {
   "cell_type": "code",
   "execution_count": null,
   "id": "f840df14",
   "metadata": {},
   "outputs": [],
   "source": [
    "data = pd.read_csv('/content/smishing_dataset.csv', encoding='latin-1')"
   ]
  },
  {
   "cell_type": "code",
   "execution_count": null,
   "id": "ad2ba069",
   "metadata": {},
   "outputs": [],
   "source": [
    "data[\"Url\"] = data.apply(lambda _: [], axis=1)\n",
    "\n",
    "def check_url(url):\n",
    "    http = httplib2.Http(timeout=0.1)\n",
    "    if \"http://\" in url or \"https://\" in url:\n",
    "        try:\n",
    "            mod_url = url\n",
    "            resp = http.request(mod_url, 'HEAD')\n",
    "            check_flag = int(resp[0]['status']) < 400\n",
    "            return check_flag\n",
    "        except:\n",
    "            return False\n",
    "    else:\n",
    "        try:\n",
    "            mod_url = \"http://\" + url\n",
    "            resp = http.request(mod_url, 'HEAD')\n",
    "            check_flag = int(resp[0]['status']) < 400\n",
    "            return check_flag \n",
    "        except:\n",
    "            try:\n",
    "                mod_url = \"https://\" + url\n",
    "                resp = http.request(mod_url, 'HEAD')\n",
    "                check_flag = int(resp[0]['status']) < 400\n",
    "                return check_flag \n",
    "            except:\n",
    "                return False\n",
    "def find_url(text):\n",
    "    extractor = URLExtract()\n",
    "    urls = extractor.find_urls(text)\n",
    "    for url in urls:\n",
    "       text = text.replace(url, \"\")\n",
    "    return urls\n",
    "data['Url'] = data['Message'].apply(find_url)\n",
    "\n",
    "for index, row in data.iterrows():\n",
    "    for url in row['Url']:\n",
    "        row['Message'] = row['Message'].replace(url,\"\")\n"
   ]
  },
  {
   "cell_type": "code",
   "execution_count": null,
   "id": "c739802f",
   "metadata": {},
   "outputs": [],
   "source": [
    "data.to_csv(\"smishing_data_clean.csv\", index=False)"
   ]
  },
  {
   "cell_type": "code",
   "execution_count": null,
   "id": "21dd5026",
   "metadata": {},
   "outputs": [],
   "source": [
    "data = pd.read_csv('/content/smishing_data_clean.csv', encoding='latin-1')\n",
    "ham_words = {}\n",
    "spam_words = {}\n",
    "total_spam_words = 0\n",
    "total_ham_words = 0\n",
    "total_words = 0\n",
    "words_bucket ={}"
   ]
  },
  {
   "cell_type": "code",
   "execution_count": null,
   "id": "b32095f9",
   "metadata": {},
   "outputs": [],
   "source": [
    "from tkinter.constants import W\n",
    "for val in data[data['Class'] == 'smish'].Message:\n",
    "    text = val.lower()\n",
    "    tokens = nltk.word_tokenize(text)\n",
    "    for words in tokens:\n",
    "        if words not in spam_words:\n",
    "            spam_words[words] = 0\n",
    "        spam_words[words] += 1\n",
    "        total_spam_words += 1\n",
    "        total_words += 1\n",
    "        words_bucket[words] = 1\n",
    "\n",
    "# Creating a corpus of ham messages\n",
    "for val in data[data['Class'] == 'ham'].Message:\n",
    "    text = val.lower()\n",
    "    tokens = nltk.word_tokenize(text)\n",
    "    for words in tokens:\n",
    "        if words not in ham_words:\n",
    "            ham_words[words] = 0\n",
    "        ham_words[words] += 1\n",
    "        total_ham_words += 1\n",
    "        total_words += 1\n",
    "        words_bucket[words] = 1"
   ]
  },
  {
   "cell_type": "code",
   "execution_count": null,
   "id": "e6998b1d",
   "metadata": {},
   "outputs": [],
   "source": [
    "data = data.replace(['ham','smish'],[0, 1])"
   ]
  },
  {
   "cell_type": "code",
   "execution_count": null,
   "id": "1d951fa4",
   "metadata": {},
   "outputs": [],
   "source": [
    "for word in words_bucket:\n",
    "    if(word in stopwords.words('english') or word in list(string.punctuation)):\n",
    "        if(word in spam_words):\n",
    "            total_words -= spam_words[word]\n",
    "            spam_words.pop(word)\n",
    "        if(word in ham_words):\n",
    "            total_words -= ham_words[word]\n",
    "            ham_words.pop(word)\n",
    "for word in spam_words:\n",
    "    spam_words[word] = math.log(spam_words[word]/total_words)"
   ]
  },
  {
   "cell_type": "code",
   "execution_count": null,
   "id": "5ec844c1",
   "metadata": {},
   "outputs": [],
   "source": [
    "def text_process(text):\n",
    "    text = text.translate(str.maketrans('', '', string.punctuation))\n",
    "    text = [word for word in text.split() if word.lower() not in stopwords.words('english') and list(string.punctuation)]\n",
    "    return \" \".join(text)\n",
    "data['Message'] = data['Message'].apply(text_process)"
   ]
  },
  {
   "cell_type": "code",
   "execution_count": null,
   "id": "17e6fb8b",
   "metadata": {},
   "outputs": [],
   "source": [
    "text = pd.DataFrame(data['Message'])\n",
    "label = pd.DataFrame(data['Class'])\n",
    "vectorizer = TfidfVectorizer()\n",
    "vectors = vectorizer.fit_transform(data['Message'])\n",
    "features = vectors\n",
    "X_train, X_test, y_train, y_test = train_test_split(features, label, test_size=0.15, random_state=111)"
   ]
  },
  {
   "cell_type": "code",
   "execution_count": null,
   "id": "993444e4",
   "metadata": {},
   "outputs": [],
   "source": [
    "svc = SVC(kernel='sigmoid', gamma=1.0)\n",
    "knc = KNeighborsClassifier(n_neighbors=49)\n",
    "mnb = MultinomialNB(alpha=0.2)\n",
    "dtc = DecisionTreeClassifier(min_samples_split=7, random_state=111)\n",
    "lrc = LogisticRegression(solver='liblinear', penalty='l1')\n",
    "rfc = RandomForestClassifier(n_estimators=31, random_state=111)"
   ]
  },
  {
   "cell_type": "code",
   "execution_count": null,
   "id": "3fafe47b",
   "metadata": {},
   "outputs": [],
   "source": [
    "clfs = {'SVC' : svc,'KN' : knc, 'NB': mnb, 'DT': dtc, 'LR': lrc, 'RF': rfc}\n",
    "def train(clf, features, targets):\n",
    "    clf.fit(features, targets)\n",
    "\n",
    "def predict(clf, features):\n",
    "    return (clf.predict(features))"
   ]
  },
  {
   "cell_type": "code",
   "execution_count": null,
   "id": "9b461f51",
   "metadata": {},
   "outputs": [],
   "source": [
    "pred_scores_word_vectors = []\n",
    "for k,v in clfs.items():\n",
    "    train(v, X_train, y_train)\n",
    "    pred = predict(v, X_test)\n",
    "    pred_scores_word_vectors.append((k, [accuracy_score(y_test , pred)]))"
   ]
  },
  {
   "cell_type": "code",
   "execution_count": null,
   "id": "b96a84cb",
   "metadata": {},
   "outputs": [],
   "source": [
    "pred_scores_word_vectors"
   ]
  },
  {
   "cell_type": "code",
   "execution_count": null,
   "id": "eafcc2d8",
   "metadata": {},
   "outputs": [],
   "source": [
    "mnb = MultinomialNB(alpha=0.2)\n",
    "mnb.fit(X_train,y_train)\n",
    "pred = mnb.predict(X_test)\n",
    "y_pred_nb = mnb.predict(X_test)\n",
    "y_true_nb = y_test\n",
    "cm = confusion_matrix(y_true_nb, y_pred_nb)\n",
    "f, ax = plt.subplots(figsize =(5,5))\n",
    "sns.heatmap(cm,annot = True,linewidths=0.5,linecolor=\"red\",fmt = \".0f\",ax=ax)\n",
    "plt.xlabel(\"y_pred_nb\")\n",
    "plt.ylabel(\"y_true_nb\")\n",
    "plt.show()"
   ]
  },
  {
   "cell_type": "code",
   "execution_count": null,
   "id": "2f2c9cd2",
   "metadata": {},
   "outputs": [],
   "source": [
    "with open(\"words.json\", \"w\") as outfile:\n",
    "    json.dump(spam_words, outfile)"
   ]
  }
 ],
 "metadata": {
  "kernelspec": {
   "display_name": "Python 3 (ipykernel)",
   "language": "python",
   "name": "python3"
  },
  "language_info": {
   "codemirror_mode": {
    "name": "ipython",
    "version": 3
   },
   "file_extension": ".py",
   "mimetype": "text/x-python",
   "name": "python",
   "nbconvert_exporter": "python",
   "pygments_lexer": "ipython3",
   "version": "3.9.12"
  }
 },
 "nbformat": 4,
 "nbformat_minor": 5
}
